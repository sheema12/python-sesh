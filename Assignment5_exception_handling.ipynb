{
 "cells": [
  {
   "cell_type": "code",
   "execution_count": 7,
   "id": "2a02adea",
   "metadata": {},
   "outputs": [
    {
     "name": "stdout",
     "output_type": "stream",
     "text": [
      "enter the number: 5\n",
      "denominatior cannot be 0 , so we can't divide\n"
     ]
    }
   ],
   "source": [
    "#1\n",
    "def div_error():\n",
    "    n=int(input(\"enter the number: \"))\n",
    "    try:\n",
    "        n%0\n",
    "    except ZeroDivisionError:\n",
    "        print(\"denominatior cannot be 0 , so we can't divide\")\n",
    "div_error()"
   ]
  },
  {
   "cell_type": "code",
   "execution_count": 8,
   "id": "b32b629a",
   "metadata": {},
   "outputs": [
    {
     "name": "stdout",
     "output_type": "stream",
     "text": [
      "Americans Play Baseball\n",
      "Americans Play cricket\n",
      "Americans watch Baseball\n",
      "Americans watch cricket\n",
      "Indians Play Baseball\n",
      "Indians Play cricket\n",
      "Indians watch Baseball\n",
      "Indians watch cricket\n"
     ]
    }
   ],
   "source": [
    "#2\n",
    "subjects=[\"Americans\", \"Indians\"]\n",
    "verbs=[\"Play\", \"watch\"]\n",
    "objects=[\"Baseball\",\"cricket\"]\n",
    "\n",
    "\n",
    "l = [(sub+\" \"+ verb + \" \" + obj) for sub in subjects for verb in verbs for obj in objects]\n",
    "for combos in l:\n",
    " print (combos)"
   ]
  },
  {
   "cell_type": "code",
   "execution_count": null,
   "id": "3e019dc0",
   "metadata": {},
   "outputs": [],
   "source": []
  }
 ],
 "metadata": {
  "kernelspec": {
   "display_name": "Python 3",
   "language": "python",
   "name": "python3"
  },
  "language_info": {
   "codemirror_mode": {
    "name": "ipython",
    "version": 3
   },
   "file_extension": ".py",
   "mimetype": "text/x-python",
   "name": "python",
   "nbconvert_exporter": "python",
   "pygments_lexer": "ipython3",
   "version": "3.7.4"
  }
 },
 "nbformat": 4,
 "nbformat_minor": 5
}

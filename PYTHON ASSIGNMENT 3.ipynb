{
 "cells": [
  {
   "cell_type": "code",
   "execution_count": 2,
   "metadata": {},
   "outputs": [
    {
     "name": "stdout",
     "output_type": "stream",
     "text": [
      "25\n",
      "9\n"
     ]
    }
   ],
   "source": [
    "# 1.1\n",
    "#user-defined function for reduce()\n",
    "def myreduce(func,lst):\n",
    "  if len(lst)==1:\n",
    "    return lst[0]\n",
    "  if len(lst)==2:\n",
    "    return func(lst[0],lst[1])\n",
    "  res=func(lst[0],lst[1])\n",
    "  for i in range(2,len(lst)):\n",
    "    res=func(res,lst[i])\n",
    "  return res\n",
    "\n",
    "#user functions for sum and max\n",
    "def add(x,y):\n",
    "  return x+y\n",
    "def greater(x,y):\n",
    "  return max(x,y)\n",
    "\n",
    "#checking\n",
    "a = [1,3,5,7,9]\n",
    "print(myreduce(add,a))\n",
    "print(myreduce(greater,a))"
   ]
  },
  {
   "cell_type": "code",
   "execution_count": 3,
   "metadata": {},
   "outputs": [
    {
     "name": "stdout",
     "output_type": "stream",
     "text": [
      "['a', 'u']\n",
      "[5, 15, 90, 65]\n"
     ]
    }
   ],
   "source": [
    "#1.2\n",
    "#user-defined function for filter()\n",
    "def myfilter(func,lst):\n",
    "  res=[]\n",
    "  for i in range(len(lst)):\n",
    "    if func(lst[i]):\n",
    "      res.append(func(lst[i]))\n",
    "  return res\n",
    "\n",
    "#user functions for vowels-filtering and divisible by 5 numbers\n",
    "def isvowel(x):\n",
    "  if x in ['a','e','i','o','u']:\n",
    "    return x\n",
    "def isdivisible_5(x):\n",
    "  if x%5 == 0:\n",
    "    return x\n",
    "\n",
    "#checking\n",
    "a=['a','t','r','d','q','u','d']\n",
    "print(myfilter(isvowel,a))\n",
    "b=[1,3,5,15,90,64,68,54,65]\n",
    "print(myfilter(isdivisible_5,b))"
   ]
  },
  {
   "cell_type": "code",
   "execution_count": 4,
   "metadata": {},
   "outputs": [
    {
     "name": "stdout",
     "output_type": "stream",
     "text": [
      "['x', 'xx', 'xxx', 'xxxx', 'y', 'yy', 'yyy', 'yyyy', 'z', 'zz', 'zzz', 'zzzz']\n",
      "['x', 'y', 'z', 'xx', 'yy', 'zz', 'xxx', 'yyy', 'zzz', 'xxxx', 'yyyy', 'zzzz']\n",
      "[[2], [3], [4], [3], [4], [5], [4], [5], [6]]\n",
      "[[2, 3, 4, 5], [3, 4, 5, 6], [4, 5, 6, 7], [5, 6, 7, 8]]\n",
      "[(1, 1), (2, 1), (3, 1), (1, 2), (2, 2), (3, 2), (1, 3), (2, 3), (3, 3)]\n"
     ]
    }
   ],
   "source": [
    "#2\n",
    "lst=['x','y','z']\n",
    "print([(j+1)*str(lst[i]) for i in range(3) for j in range(4)])\n",
    "print([(i+1)*str(lst[j]) for i in range(4) for j in range(3)])\n",
    "\n",
    "lst=[2,3,4]\n",
    "print([[lst[j]+i] for i in range(3) for j in range(3)])\n",
    "\n",
    "lst=[2,3,4,5]\n",
    "print([[lst[j]+i for i in range(4)] for j in range(4)])\n",
    "\n",
    "lst=(1,1)\n",
    "print([(lst[0]+j,lst[1]+i) for i in range(3) for j in range(3)])"
   ]
  },
  {
   "cell_type": "code",
   "execution_count": null,
   "metadata": {},
   "outputs": [],
   "source": []
  }
 ],
 "metadata": {
  "kernelspec": {
   "display_name": "Python 3",
   "language": "python",
   "name": "python3"
  },
  "language_info": {
   "codemirror_mode": {
    "name": "ipython",
    "version": 3
   },
   "file_extension": ".py",
   "mimetype": "text/x-python",
   "name": "python",
   "nbconvert_exporter": "python",
   "pygments_lexer": "ipython3",
   "version": "3.7.4"
  }
 },
 "nbformat": 4,
 "nbformat_minor": 2
}

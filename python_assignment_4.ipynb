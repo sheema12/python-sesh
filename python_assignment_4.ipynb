{
 "cells": [
  {
   "cell_type": "markdown",
   "id": "6934c9b6",
   "metadata": {},
   "source": [
    "## 1.1 Write a Python Program(with class concepts) to find the area of the triangle using the below formula.area = (s*(s-a)*(s-b)*(s-c)) ** 0.5 Function to take the length of the sides of triangle from user should be defined in the parent class and function to calculate the area should be defined in subclass."
   ]
  },
  {
   "cell_type": "code",
   "execution_count": 6,
   "id": "0121775d",
   "metadata": {},
   "outputs": [
    {
     "name": "stdout",
     "output_type": "stream",
     "text": [
      "We are in child class now...The area of the triangle is 4.898979485566356\n"
     ]
    }
   ],
   "source": [
    "#1.1\n",
    "#parent class for getting data\n",
    "class triangle_data:\n",
    "  def __init__(self,s,a,b,c):\n",
    "    self.s = s\n",
    "    self.a = a\n",
    "    self.b = b\n",
    "    self.c = c\n",
    "  def __str__(self):\n",
    "    return \"We are in parent class now...Succesfully scanned the inputs from user\"\n",
    "\n",
    "#child class for calculating area\n",
    "class triangle_area(triangle_data):\n",
    "  def __init__(self,*args):\n",
    "    super(triangle_area,self).__init__(*args)\n",
    "    self.t_area = (self.s*(self.s-self.a)*(self.s-self.b)*(self.s-self.c)) ** 0.5\n",
    "  def __str__(self):\n",
    "    return \"We are in child class now...The area of the triangle is {}\".format(self.t_area) \n",
    "\n",
    "#outside class\n",
    "area = triangle_area(4,3,2,1)\n",
    "print(area)"
   ]
  },
  {
   "cell_type": "code",
   "execution_count": null,
   "id": "d284b885",
   "metadata": {},
   "outputs": [],
   "source": []
  },
  {
   "cell_type": "markdown",
   "id": "ba0da343",
   "metadata": {},
   "source": [
    "# Write a function filter_long_words() that takes a list of words and an integer n and returns the list of words that are longer than n."
   ]
  },
  {
   "cell_type": "code",
   "execution_count": 10,
   "id": "98a35997",
   "metadata": {},
   "outputs": [
    {
     "name": "stdout",
     "output_type": "stream",
     "text": [
      "['SHEEMA', 'ZAINAB', 'SCIENTIST']\n"
     ]
    }
   ],
   "source": [
    "def filter_long_words(x, n):\n",
    "    return filter(lambda find: len(find) > n,x)\n",
    "\n",
    "a=list(filter_long_words(['SHEEMA', 'ZAINAB', 'DATA','SCIENTIST'],5))\n",
    "print(a)"
   ]
  },
  {
   "cell_type": "code",
   "execution_count": 10,
   "id": "add31fb9",
   "metadata": {},
   "outputs": [
    {
     "data": {
      "text/plain": [
       "[6, 6, 2]"
      ]
     },
     "execution_count": 10,
     "metadata": {},
     "output_type": "execute_result"
    }
   ],
   "source": [
    "#2.1\n",
    "def length_of_words(x):\n",
    "  lengths = []\n",
    "  for i in x:\n",
    "    lengths.append(len(i))\n",
    "  return lengths\n",
    "a=['sheema','zainab','hi']\n",
    "#checking function\n",
    "length_of_words(a)"
   ]
  },
  {
   "cell_type": "code",
   "execution_count": 11,
   "id": "28f98c66",
   "metadata": {},
   "outputs": [
    {
     "name": "stdout",
     "output_type": "stream",
     "text": [
      "True\n",
      "False\n"
     ]
    }
   ],
   "source": [
    "#2.2\n",
    "def isvowel(chr):\n",
    "  chr = chr.lower()\n",
    "  if chr in ['a','e','i','o','u']:\n",
    "    return True\n",
    "  return False\n",
    "\n",
    "#checking function\n",
    "print(isvowel('a'))\n",
    "print(isvowel('L'))"
   ]
  },
  {
   "cell_type": "code",
   "execution_count": null,
   "id": "deb186ac",
   "metadata": {},
   "outputs": [],
   "source": []
  }
 ],
 "metadata": {
  "kernelspec": {
   "display_name": "Python 3",
   "language": "python",
   "name": "python3"
  },
  "language_info": {
   "codemirror_mode": {
    "name": "ipython",
    "version": 3
   },
   "file_extension": ".py",
   "mimetype": "text/x-python",
   "name": "python",
   "nbconvert_exporter": "python",
   "pygments_lexer": "ipython3",
   "version": "3.7.4"
  }
 },
 "nbformat": 4,
 "nbformat_minor": 5
}
